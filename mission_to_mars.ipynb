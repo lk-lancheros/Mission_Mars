{
 "cells": [
  {
   "cell_type": "markdown",
   "metadata": {},
   "source": [
    "# Mission to Mars - Step 1 (Scrapping)"
   ]
  },
  {
   "cell_type": "code",
   "execution_count": 5,
   "metadata": {},
   "outputs": [],
   "source": [
    "# Dependencies\n",
    "# from IPython.display import Image\n",
    "from bs4 import BeautifulSoup\n",
    "import requests, time\n",
    "from splinter import Browser\n",
    "# from splinter.exceptions import ElementDoesNotExist\n",
    "import pandas as pd"
   ]
  },
  {
   "cell_type": "markdown",
   "metadata": {},
   "source": [
    "## A. NASA Mars News ( Featured latest news story)"
   ]
  },
  {
   "cell_type": "code",
   "execution_count": 6,
   "metadata": {},
   "outputs": [
    {
     "name": "stdout",
     "output_type": "stream",
     "text": [
      "After a Reset, Curiosity Is Operating Normally\n",
      "NASA's Mars rover Curiosity is in good health but takes a short break while engineers diagnose why it reset its computer. \n"
     ]
    }
   ],
   "source": [
    "executable_path = {'executable_path': 'chromedriver.exe'}\n",
    "browser = Browser('chrome', **executable_path, headless=False)\n",
    "\n",
    "# URL of page to be scraped\n",
    "url1 = 'https://mars.nasa.gov/news/'\n",
    "\n",
    "browser.visit(url1)\n",
    "html = browser.html\n",
    "time.sleep(5)\n",
    "\n",
    "# Create a Beautiful Soup object\n",
    "soup1 = BeautifulSoup(html, 'html.parser')\n",
    "\n",
    "# print(soup1.prettify())\n",
    "\n",
    "# Identify and return title of latest news story and 'teaser' text\n",
    "news_title = soup1.find('div', class_=\"content_title\").text      \n",
    "news_p = soup1.find('div', class_=\"rollover_description_inner\").text\n",
    "\n",
    "print(news_title)\n",
    "print(news_p)\n",
    "browser.quit()"
   ]
  },
  {
   "cell_type": "markdown",
   "metadata": {
    "collapsed": true
   },
   "source": [
    "## B. JPL Mars Space Images (Featured Image)"
   ]
  },
  {
   "cell_type": "code",
   "execution_count": 7,
   "metadata": {},
   "outputs": [
    {
     "name": "stdout",
     "output_type": "stream",
     "text": [
      "https://www.jpl.nasa.gov/spaceimages/images/largesize/PIA16605_hires.jpg\n"
     ]
    }
   ],
   "source": [
    "executable_path = {'executable_path': 'chromedriver.exe'}\n",
    "browser = Browser('chrome', **executable_path, headless=False)\n",
    "\n",
    "# URL of page to be scraped\n",
    "url2 = 'https://www.jpl.nasa.gov/spaceimages/?search=&category=Mars'\n",
    "\n",
    "browser.visit(url2)\n",
    "browser.click_link_by_partial_text('FULL IMAGE')\n",
    "time.sleep(5)\n",
    "browser.click_link_by_partial_text('more info')\n",
    "html = browser.html\n",
    "\n",
    "# Create a Beautiful Soup object\n",
    "soup2 = BeautifulSoup(html, 'html.parser')\n",
    "\n",
    "# Identify and return link to featured image\n",
    "temp = soup2.find('figure', class_='lede')\n",
    "img_partial = temp.find('a')['href']\n",
    "jpl_image_url = 'https://www.jpl.nasa.gov' + img_partial\n",
    "print(featured_image_url)\n",
    "browser.quit()"
   ]
  },
  {
   "cell_type": "markdown",
   "metadata": {},
   "source": [
    "## C. Mars Weather (Latest from Twitter)"
   ]
  },
  {
   "cell_type": "code",
   "execution_count": 8,
   "metadata": {},
   "outputs": [
    {
     "name": "stdout",
     "output_type": "stream",
     "text": [
      "InSight sol 84 (2019-02-20) low -95.1ºC (-139.2ºF) high -13.2ºC (8.3ºF)\n",
      "winds from the SW at 4.1 m/s (9.3 mph) gusting to 10.8 m/s (24.2 mph)\n"
     ]
    }
   ],
   "source": [
    "executable_path = {'executable_path': 'chromedriver.exe'}\n",
    "browser = Browser('chrome', **executable_path, headless=False)\n",
    "\n",
    "# URL of page to be scraped\n",
    "url3 = 'https://twitter.com/marswxreport?lang=en'\n",
    "\n",
    "browser.visit(url3)\n",
    "html = browser.html\n",
    "\n",
    "# Create BeautifulSoup object; parse with 'html.parser'\n",
    "soup3 = BeautifulSoup(html, 'html.parser')\n",
    "\n",
    "temp=soup3.find_all('p', class_='TweetTextSize TweetTextSize--normal js-tweet-text tweet-text')[0].text\n",
    "mars_weather=temp.split(\"pic\")\n",
    "print(mars_weather[0])\n",
    "browser.quit()"
   ]
  },
  {
   "cell_type": "markdown",
   "metadata": {},
   "source": [
    "## D: Mars Facts (Pandas approach)"
   ]
  },
  {
   "cell_type": "code",
   "execution_count": 9,
   "metadata": {},
   "outputs": [],
   "source": [
    "# URL of page to be scraped\n",
    "url4= 'http://space-facts.com/mars/'\n",
    "\n",
    "# Use read_html function in Pandas to automatically scrape any tabular data from a page\n",
    "tables = pd.read_html(url4)\n",
    "tables\n",
    "\n",
    "# List dataframes for any tabular data\n",
    "type(tables)\n",
    "df = tables[0]\n",
    "df.columns = ['Labels','Values']\n",
    "df.head()\n",
    "html_table = df.to_html()\n",
    "html_table\n",
    "df.to_html('table.html')\n"
   ]
  },
  {
   "cell_type": "markdown",
   "metadata": {},
   "source": [
    "## E. Mars Hemispheres"
   ]
  },
  {
   "cell_type": "code",
   "execution_count": 10,
   "metadata": {},
   "outputs": [
    {
     "name": "stdout",
     "output_type": "stream",
     "text": [
      "['http://astropedia.astrogeology.usgs.gov/download/Mars/Viking/valles_marineris_enhanced.tif/full.jpg', 'http://astropedia.astrogeology.usgs.gov/download/Mars/Viking/syrtis_major_enhanced.tif/full.jpg', 'http://astropedia.astrogeology.usgs.gov/download/Mars/Viking/schiaparelli_enhanced.tif/full.jpg', 'http://astropedia.astrogeology.usgs.gov/download/Mars/Viking/cerberus_enhanced.tif/full.jpg']\n",
      "['Valles Marineris Hemisphere Enhanced', 'Syrtis Major Hemisphere Enhanced', 'Schiaparelli Hemisphere Enhanced', 'Cerberus Hemisphere Enhanced']\n"
     ]
    }
   ],
   "source": [
    "executable_path = {'executable_path': 'chromedriver.exe'}\n",
    "browser = Browser('chrome', **executable_path, headless=False)\n",
    "\n",
    "# URL of page to be scraped\n",
    "url5 = ['https://astrogeology.usgs.gov/search/map/Mars/Viking/valles_marineris_enhanced',\n",
    "        'https://astrogeology.usgs.gov/search/map/Mars/Viking/syrtis_major_enhanced',\n",
    "        'https://astrogeology.usgs.gov/search/map/Mars/Viking/schiaparelli_enhanced',\n",
    "        'https://astrogeology.usgs.gov/search/map/Mars/Viking/cerberus_enhanced']\n",
    "\n",
    "image_url=[]\n",
    "title=[]\n",
    "\n",
    "for u in url5:\n",
    "    browser.visit(u)\n",
    "    html = browser.html\n",
    "    #Create a Beautiful Soup object\n",
    "    soup5=BeautifulSoup(html, 'html.parser')\n",
    "    #Find the link to enhanced image\n",
    "    temp = soup5.find('div', class_='downloads')\n",
    "    image_url.append(temp.find('a')['href'])\n",
    "    temp = soup5.find('div', class_='content')\n",
    "    title.append(temp.find('h2').text)\n",
    "\n",
    "print(image_url)\n",
    "print(title)"
   ]
  },
  {
   "cell_type": "code",
   "execution_count": null,
   "metadata": {},
   "outputs": [],
   "source": []
  }
 ],
 "metadata": {
  "kernelspec": {
   "display_name": "Python 3",
   "language": "python",
   "name": "python3"
  },
  "language_info": {
   "codemirror_mode": {
    "name": "ipython",
    "version": 3
   },
   "file_extension": ".py",
   "mimetype": "text/x-python",
   "name": "python",
   "nbconvert_exporter": "python",
   "pygments_lexer": "ipython3",
   "version": "3.6.6"
  },
  "varInspector": {
   "cols": {
    "lenName": 16,
    "lenType": 16,
    "lenVar": 40
   },
   "kernels_config": {
    "python": {
     "delete_cmd_postfix": "",
     "delete_cmd_prefix": "del ",
     "library": "var_list.py",
     "varRefreshCmd": "print(var_dic_list())"
    },
    "r": {
     "delete_cmd_postfix": ") ",
     "delete_cmd_prefix": "rm(",
     "library": "var_list.r",
     "varRefreshCmd": "cat(var_dic_list()) "
    }
   },
   "types_to_exclude": [
    "module",
    "function",
    "builtin_function_or_method",
    "instance",
    "_Feature"
   ],
   "window_display": false
  }
 },
 "nbformat": 4,
 "nbformat_minor": 2
}
